{
 "cells": [
  {
   "cell_type": "code",
   "execution_count": 4,
   "metadata": {},
   "outputs": [
    {
     "data": {
      "text/html": [
       "<div>\n",
       "<style scoped>\n",
       "    .dataframe tbody tr th:only-of-type {\n",
       "        vertical-align: middle;\n",
       "    }\n",
       "\n",
       "    .dataframe tbody tr th {\n",
       "        vertical-align: top;\n",
       "    }\n",
       "\n",
       "    .dataframe thead th {\n",
       "        text-align: right;\n",
       "    }\n",
       "</style>\n",
       "<table border=\"1\" class=\"dataframe\">\n",
       "  <thead>\n",
       "    <tr style=\"text-align: right;\">\n",
       "      <th></th>\n",
       "      <th>Ulasan</th>\n",
       "      <th>SENTIMEN</th>\n",
       "    </tr>\n",
       "  </thead>\n",
       "  <tbody>\n",
       "    <tr>\n",
       "      <th>0</th>\n",
       "      <td>sesuai gambar bagus</td>\n",
       "      <td>POSITIF</td>\n",
       "    </tr>\n",
       "    <tr>\n",
       "      <th>1</th>\n",
       "      <td>barang sesuai pesan manfaat</td>\n",
       "      <td>POSITIF</td>\n",
       "    </tr>\n",
       "    <tr>\n",
       "      <th>2</th>\n",
       "      <td>toko amanah hp sesuai deskripsi</td>\n",
       "      <td>POSITIF</td>\n",
       "    </tr>\n",
       "    <tr>\n",
       "      <th>3</th>\n",
       "      <td>alhamdulillah tablet ganti cek bagus terima ka...</td>\n",
       "      <td>POSITIF</td>\n",
       "    </tr>\n",
       "    <tr>\n",
       "      <th>4</th>\n",
       "      <td>kirim cepat barang fungsi warna sesuai pilih r...</td>\n",
       "      <td>POSITIF</td>\n",
       "    </tr>\n",
       "  </tbody>\n",
       "</table>\n",
       "</div>"
      ],
      "text/plain": [
       "                                              Ulasan SENTIMEN\n",
       "0                                sesuai gambar bagus  POSITIF\n",
       "1                        barang sesuai pesan manfaat  POSITIF\n",
       "2                    toko amanah hp sesuai deskripsi  POSITIF\n",
       "3  alhamdulillah tablet ganti cek bagus terima ka...  POSITIF\n",
       "4  kirim cepat barang fungsi warna sesuai pilih r...  POSITIF"
      ]
     },
     "execution_count": 4,
     "metadata": {},
     "output_type": "execute_result"
    }
   ],
   "source": [
    "import pandas as pd\n",
    "data_clean = pd.read_csv('TAClean2.csv', encoding='latin1')\n",
    "data_clean.head()"
   ]
  },
  {
   "cell_type": "code",
   "execution_count": 5,
   "metadata": {},
   "outputs": [
    {
     "data": {
      "text/plain": [
       "Ulasan      string[python]\n",
       "SENTIMEN          category\n",
       "dtype: object"
      ]
     },
     "execution_count": 5,
     "metadata": {},
     "output_type": "execute_result"
    }
   ],
   "source": [
    "data_clean = data_clean.astype({'SENTIMEN' : 'category'})\n",
    "data_clean = data_clean.astype({'Ulasan' : 'string'})\n",
    "data_clean.dtypes"
   ]
  },
  {
   "cell_type": "code",
   "execution_count": 6,
   "metadata": {},
   "outputs": [
    {
     "name": "stdout",
     "output_type": "stream",
     "text": [
      "  (0, 71)\t0.39784416191672173\n",
      "  (0, 320)\t0.8281025738363363\n",
      "  (0, 876)\t0.394925499346923\n",
      "  (1, 563)\t0.7966751746822\n",
      "  (1, 727)\t0.4296320302800328\n",
      "  (1, 97)\t0.264982525961549\n",
      "  (1, 876)\t0.3324293090832699\n",
      "  (2, 234)\t0.5661743018117791\n",
      "  (2, 380)\t0.4066940035961517\n",
      "  (2, 35)\t0.46848503645691997\n",
      "  (2, 996)\t0.42865378615454836\n",
      "  (2, 876)\t0.33290291323178156\n",
      "  (3, 325)\t0.398126578552004\n",
      "  (3, 529)\t0.32272699997435217\n",
      "  (3, 186)\t0.152493038370299\n",
      "  (3, 809)\t0.3038836602189331\n",
      "  (3, 458)\t0.14669265360582337\n",
      "  (3, 970)\t0.1421929805227773\n",
      "  (3, 185)\t0.3885361817639921\n",
      "  (3, 324)\t0.4881016302088219\n",
      "  (3, 942)\t0.33029412805628106\n",
      "  (3, 26)\t0.2317331895433447\n",
      "  (3, 71)\t0.16735435097438275\n",
      "  (4, 685)\t0.3036332382180207\n",
      "  (4, 530)\t0.3036332382180207\n",
      "  :\t:\n",
      "  (654, 970)\t0.5151286859995052\n",
      "  (654, 97)\t0.23986379741828448\n",
      "  (654, 876)\t0.30091703654987534\n",
      "  (655, 294)\t0.3703452517454036\n",
      "  (655, 89)\t0.5038216434138417\n",
      "  (655, 653)\t0.20379024652130143\n",
      "  (655, 689)\t0.29012076120357\n",
      "  (655, 34)\t0.2099238200813171\n",
      "  (655, 485)\t0.17848645032198895\n",
      "  (655, 186)\t0.17691426747657313\n",
      "  (655, 458)\t0.1701849712893096\n",
      "  (655, 970)\t0.1649646912301105\n",
      "  (655, 35)\t0.2712252783045803\n",
      "  (655, 996)\t0.49633065476476707\n",
      "  (656, 76)\t0.37855598901594434\n",
      "  (656, 350)\t0.38206505436656224\n",
      "  (656, 511)\t0.3935022674754849\n",
      "  (656, 802)\t0.3719255711478944\n",
      "  (656, 404)\t0.3294759591274636\n",
      "  (656, 34)\t0.22540920775859435\n",
      "  (656, 114)\t0.29520975808479916\n",
      "  (656, 485)\t0.19165280694272135\n",
      "  (656, 186)\t0.18996464935536628\n",
      "  (656, 996)\t0.26647166489608737\n",
      "  (656, 97)\t0.16496047396261818\n"
     ]
    }
   ],
   "source": [
    "# PROSES TF IDF\n",
    "from sklearn.feature_extraction.text import CountVectorizer\n",
    "from sklearn.feature_extraction.text import TfidfVectorizer\n",
    "\n",
    "vectorizer = CountVectorizer()\n",
    "X = vectorizer.fit_transform(data_clean['Ulasan'].astype('U'))\n",
    "\n",
    "tf = TfidfVectorizer()\n",
    "text_tf = tf.fit_transform(data_clean['Ulasan'].astype('U'))\n",
    "print(text_tf)"
   ]
  },
  {
   "cell_type": "code",
   "execution_count": 7,
   "metadata": {},
   "outputs": [
    {
     "name": "stdout",
     "output_type": "stream",
     "text": [
      "[[1.         0.13128481 0.13147185 ... 0.11883981 0.         0.        ]\n",
      " [0.13128481 1.         0.11066669 ... 0.16359336 0.         0.04371164]\n",
      " [0.13147185 0.11066669 1.         ... 0.10017616 0.339819   0.11422409]\n",
      " ...\n",
      " [0.11883981 0.16359336 0.10017616 ... 1.         0.29761092 0.21932968]\n",
      " [0.         0.         0.339819   ... 0.29761092 1.         0.2473917 ]\n",
      " [0.         0.04371164 0.11422409 ... 0.21932968 0.2473917  1.        ]]\n"
     ]
    }
   ],
   "source": [
    "#cosine similarity\n",
    "from sklearn.metrics.pairwise import cosine_similarity\n",
    "cos_sim=cosine_similarity(text_tf, text_tf)\n",
    "\n",
    "print(cos_sim)"
   ]
  },
  {
   "cell_type": "code",
   "execution_count": 8,
   "metadata": {},
   "outputs": [],
   "source": [
    "def init_position(lb, ub, N, dim):\n",
    "    X = np.zeros([N, dim], dtype='float')\n",
    "    for i in range(N):\n",
    "        for d in range(dim):\n",
    "            X[i,d] = lb[0,d] + (ub[0,d] - lb[0,d]) * rand()        \n",
    "    \n",
    "    return X"
   ]
  },
  {
   "cell_type": "code",
   "execution_count": 9,
   "metadata": {},
   "outputs": [],
   "source": [
    "def init_velocity(lb, ub, N, dim):\n",
    "    V    = np.zeros([N, dim], dtype='float')\n",
    "    Vmax = np.zeros([1, dim], dtype='float')\n",
    "    Vmin = np.zeros([1, dim], dtype='float')\n",
    "    # Maximum & minimum velocity\n",
    "    for d in range(dim):\n",
    "        Vmax[0,d] = (ub[0,d] - lb[0,d]) / 2\n",
    "        Vmin[0,d] = -Vmax[0,d]\n",
    "        \n",
    "    for i in range(N):\n",
    "        for d in range(dim):\n",
    "            V[i,d] = Vmin[0,d] + (Vmax[0,d] - Vmin[0,d]) * rand()\n",
    "        \n",
    "    return V, Vmax, Vmin"
   ]
  },
  {
   "cell_type": "code",
   "execution_count": 10,
   "metadata": {},
   "outputs": [],
   "source": [
    "def binary_conversion(X, thres, N, dim):\n",
    "    Xbin = np.zeros([N, dim], dtype='int')\n",
    "    for i in range(N):\n",
    "        for d in range(dim):\n",
    "            if X[i,d] > thres:\n",
    "                Xbin[i,d] = 1\n",
    "            else:\n",
    "                Xbin[i,d] = 0\n",
    "    \n",
    "    return Xbin"
   ]
  },
  {
   "cell_type": "code",
   "execution_count": 11,
   "metadata": {},
   "outputs": [],
   "source": [
    "def boundary(x, lb, ub):\n",
    "    if x < lb:\n",
    "        x = lb\n",
    "    if x > ub:\n",
    "        x = ub\n",
    "    \n",
    "    return x"
   ]
  },
  {
   "cell_type": "code",
   "execution_count": 12,
   "metadata": {},
   "outputs": [],
   "source": [
    "# error rate\n",
    "def error_rate(xtrain, ytrain, x, opts):\n",
    "    # parameters\n",
    "    k     = opts['k']\n",
    "    fold  = opts['fold']\n",
    "    xt    = fold['xt']\n",
    "    yt    = fold['yt']\n",
    "    xv    = fold['xv']\n",
    "    yv    = fold['yv']\n",
    "    \n",
    "    # Number of instances\n",
    "    num_train = np.size(xt, 0)\n",
    "    num_valid = np.size(xv, 0)\n",
    "    # Define selected features\n",
    "    xtrain  = xt[:, x == 1]\n",
    "    ytrain  = yt.reshape(num_train)  # Solve bug\n",
    "    xvalid  = xv[:, x == 1]\n",
    "    yvalid  = yv.reshape(num_valid)  # Solve bug   \n",
    "    # Training\n",
    "    mdl     = KNeighborsClassifier(n_neighbors = k)\n",
    "    mdl.fit(xtrain, ytrain)\n",
    "    # Prediction\n",
    "    ypred   = mdl.predict(xvalid)\n",
    "    acc     = np.sum(yvalid == ypred) / num_valid\n",
    "    error   = 1 - acc\n",
    "    \n",
    "    return error"
   ]
  },
  {
   "cell_type": "code",
   "execution_count": 13,
   "metadata": {},
   "outputs": [],
   "source": [
    "def model_selected_feature(xtrain,xtest,ytrain, ytest,k,fmdl,sf,fs_method):  \n",
    "    # model with selected features\n",
    "    num_train = np.size(xtrain, 0)\n",
    "    num_valid = np.size(xtest, 0)\n",
    "    x_train   = xtrain[:, sf]\n",
    "    y_train   = ytrain.reshape(num_train)  # Solve bug\n",
    "    x_valid   = xtest[:, sf]\n",
    "    y_valid   = ytest.reshape(num_valid)  # Solve bug\n",
    "\n",
    "    mdl       = KNeighborsClassifier(n_neighbors = k) \n",
    "    print(\"Training Accuracy: \\n\")\n",
    "    mdl.fit(x_train, y_train)\n",
    "    # Calculate the accuracy of the training model\n",
    "    train_res = mdl.score(x_train, y_train)\n",
    "    print(\"Training Accuracy: \", train_res)\n",
    "    # Predict on dataset which model has not seen before\n",
    "    \n",
    "    mdl.predict(x_valid)\n",
    "    # Calculate the accuracy of the model\n",
    "    test_res = mdl.score(x_valid, y_valid)\n",
    "    print(\"Testing Accuracy: \\n\", test_res)\n",
    "    \n",
    "    accuracy_convergence(mdl,x_valid,y_valid,num_valid,fmdl,fs_method,opts)\n",
    "    #print(sum(train_res-test_res))"
   ]
  },
  {
   "cell_type": "code",
   "execution_count": 14,
   "metadata": {},
   "outputs": [],
   "source": [
    "def accuracy_convergence(mdl,x_valid,y_valid,num_valid,fmdl,fs_method,opts):\n",
    "    # accuracy\n",
    "    y_pred    = mdl.predict(x_valid)\n",
    "    Acc       = np.sum(y_valid == y_pred)  / num_valid\n",
    "    print(\"Accuracy:\", 100 * Acc)\n",
    "\n",
    "    # number of selected features\n",
    "    num_feat = fmdl['nf']\n",
    "    print(\"Feature Size:\", num_feat)\n",
    "\n",
    "    # plot convergence\n",
    "    curve   = fmdl['c']\n",
    "    curve   = curve.reshape(np.size(curve,1))\n",
    "    x       = np.arange(0, opts['T'], 1.0) + 1.0\n",
    "\n",
    "    fig, ax = plt.subplots()\n",
    "    ax.plot(x, curve, 'o-')\n",
    "    ax.set_xlabel('Number of Iterations')\n",
    "    ax.set_ylabel('Fitness')\n",
    "    ax.set_title(fs_method)\n",
    "    ax.grid()\n",
    "    plt.show()"
   ]
  },
  {
   "cell_type": "code",
   "execution_count": 15,
   "metadata": {},
   "outputs": [],
   "source": [
    "def pso_fs(xtrain, ytrain, opts):\n",
    "    # Parameters\n",
    "    ub    = 1\n",
    "    lb    = 0\n",
    "    thres = 0.5\n",
    "    w     = 0.9    # inertia weight\n",
    "    c1    = 2      # acceleration factor\n",
    "    c2    = 2      # acceleration factor\n",
    "    \n",
    "    N        = opts['N']\n",
    "    max_iter = opts['T']\n",
    "    if 'w' in opts:\n",
    "        w    = opts['w']\n",
    "    if 'c1' in opts:\n",
    "        c1   = opts['c1']\n",
    "    if 'c2' in opts:\n",
    "        c2   = opts['c2'] \n",
    "    \n",
    "    # Dimension\n",
    "    dim = np.size(xtrain, 1)\n",
    "    if np.size(lb) == 1:\n",
    "        ub = ub * np.ones([1, dim], dtype='float')\n",
    "        lb = lb * np.ones([1, dim], dtype='float')\n",
    "        \n",
    "    # Initialize position & velocity\n",
    "    X             = init_position(lb, ub, N, dim)\n",
    "    V, Vmax, Vmin = init_velocity(lb, ub, N, dim) \n",
    "    \n",
    "    # Pre\n",
    "    fit   = np.zeros([N, 1], dtype='float')\n",
    "    Xgb   = np.zeros([1, dim], dtype='float')\n",
    "    fitG  = float('inf')\n",
    "    Xpb   = np.zeros([N, dim], dtype='float')\n",
    "    fitP  = float('inf') * np.ones([N, 1], dtype='float')\n",
    "    curve = np.zeros([1, max_iter], dtype='float') \n",
    "    t     = 0\n",
    "    \n",
    "    while t < max_iter:\n",
    "        # Binary conversion\n",
    "        Xbin = binary_conversion(X, thres, N, dim)\n",
    "        \n",
    "        # Fitness\n",
    "        for i in range(N):\n",
    "            fit[i,0] = error_rate(xtrain, ytrain, Xbin[i,:], opts)\n",
    "            if fit[i,0] < fitP[i,0]:\n",
    "                Xpb[i,:]  = X[i,:]\n",
    "                fitP[i,0] = fit[i,0]\n",
    "            if fitP[i,0] < fitG:\n",
    "                Xgb[0,:]  = Xpb[i,:]\n",
    "                fitG      = fitP[i,0]\n",
    "        \n",
    "        # Store result\n",
    "        curve[0,t] = fitG.copy()\n",
    "        print(\"Iteration:\", t + 1)\n",
    "        print(\"Best (PSO):\", curve[0,t])\n",
    "        t += 1\n",
    "        \n",
    "        for i in range(N):\n",
    "            for d in range(dim):\n",
    "                # Update velocity\n",
    "                r1     = rand()\n",
    "                r2     = rand()\n",
    "                V[i,d] = w * V[i,d] + c1 * r1 * (Xpb[i,d] - X[i,d]) + c2 * r2 * (Xgb[0,d] - X[i,d]) \n",
    "                # Boundary\n",
    "                V[i,d] = boundary(V[i,d], Vmin[0,d], Vmax[0,d])\n",
    "                # Update position\n",
    "                X[i,d] = X[i,d] + V[i,d]\n",
    "                # Boundary\n",
    "                X[i,d] = boundary(X[i,d], lb[0,d], ub[0,d])\n",
    "    \n",
    "                 # Best feature subset\n",
    "    Gbin       = binary_conversion(Xgb, thres, 1, dim) \n",
    "    Gbin       = Gbin.reshape(dim)\n",
    "    pos        = np.asarray(range(0, dim))    \n",
    "    sel_index  = pos[Gbin == 1]\n",
    "    num_feat   = len(sel_index)\n",
    "    # Create dictionary\n",
    "    pso_data = {'sf': sel_index, 'c': curve, 'nf': num_feat}\n",
    "    \n",
    "    return pso_data \n",
    "    "
   ]
  },
  {
   "cell_type": "code",
   "execution_count": 16,
   "metadata": {},
   "outputs": [],
   "source": [
    "def pso_fs_model(opts):\n",
    "    fs_method='PSO KICH'\n",
    "\n",
    "    # perform feature selection\n",
    "    fmdl = pso_fs(feat, label, opts)\n",
    "    sf   = fmdl['sf']\n",
    "    print('\\nSelected features are : ',sf)\n",
    "\n",
    "    model_selected_feature(xtrain,xtest,ytrain, ytest,k, fmdl, sf,fs_method)"
   ]
  },
  {
   "cell_type": "code",
   "execution_count": 17,
   "metadata": {},
   "outputs": [
    {
     "name": "stdout",
     "output_type": "stream",
     "text": [
      "[[0.         0.         0.339819   ... 0.29761092 1.         0.2473917 ]\n",
      " [0.         0.         0.         ... 0.         0.         0.        ]\n",
      " [0.         0.07052512 0.07010445 ... 0.         0.35946634 0.04358027]\n",
      " ...\n",
      " [0.         0.02074803 0.09760895 ... 0.01878124 0.         0.01291634]\n",
      " [0.03397878 0.0286017  0.1568849  ... 0.02589044 0.05665839 0.        ]\n",
      " [0.0755441  0.14447373 0.         ... 0.03603897 0.         0.15077602]]\n",
      "575    POSITIF\n",
      "342    POSITIF\n",
      "337    POSITIF\n",
      "318    POSITIF\n",
      "571    POSITIF\n",
      "        ...   \n",
      "298    POSITIF\n",
      "608    POSITIF\n",
      "87     POSITIF\n",
      "104    NEGATIF\n",
      "427    POSITIF\n",
      "Name: SENTIMEN, Length: 132, dtype: category\n",
      "Categories (2, object): ['NEGATIF', 'POSITIF']\n",
      "Jumlah data uji dengan sentimen positif: 125\n",
      "Jumlah data uji dengan sentimen negatif: 7\n",
      "Jumlah data latih dengan sentimen positif: 499\n",
      "Jumlah data latih dengan sentimen negatif: 26\n"
     ]
    },
    {
     "data": {
      "text/plain": [
       "SENTIMEN\n",
       "POSITIF    624\n",
       "NEGATIF     33\n",
       "Name: count, dtype: int64"
      ]
     },
     "execution_count": 17,
     "metadata": {},
     "output_type": "execute_result"
    }
   ],
   "source": [
    "#splitting data split test 60:40\n",
    "from sklearn.model_selection import train_test_split\n",
    "X_train, X_test, y_train, y_test = train_test_split(cos_sim, data_clean['SENTIMEN'], test_size=0.2, random_state=33)\n",
    "print(X_test)\n",
    "print(y_test)\n",
    "\n",
    "pos = (y_test == 'POSITIF').sum()\n",
    "neg = (y_test == 'NEGATIF').sum()\n",
    "postrain = (y_train == 'POSITIF').sum()\n",
    "negtrain = (y_train == 'NEGATIF').sum()\n",
    "total = pos + neg\n",
    "print(\"Jumlah data uji dengan sentimen positif:\", pos)\n",
    "print(\"Jumlah data uji dengan sentimen negatif:\",neg)\n",
    "print(\"Jumlah data latih dengan sentimen positif:\", postrain)\n",
    "print(\"Jumlah data latih dengan sentimen negatif:\",negtrain)\n",
    "data_clean['SENTIMEN'].value_counts()"
   ]
  },
  {
   "cell_type": "code",
   "execution_count": null,
   "metadata": {},
   "outputs": [],
   "source": []
  },
  {
   "cell_type": "code",
   "execution_count": 18,
   "metadata": {},
   "outputs": [
    {
     "name": "stdout",
     "output_type": "stream",
     "text": [
      "confusion matrix:\n",
      " [[  0   7]\n",
      " [  0 125]]\n",
      "===============================================\n",
      "\n",
      "TN: 0\n",
      "FP: 7\n",
      "FN: 0\n",
      "TP: 125\n",
      "              precision    recall  f1-score   support\n",
      "\n",
      "     NEGATIF       0.00      0.00      0.00         7\n",
      "     POSITIF       0.95      1.00      0.97       125\n",
      "\n",
      "    accuracy                           0.95       132\n",
      "   macro avg       0.47      0.50      0.49       132\n",
      "weighted avg       0.90      0.95      0.92       132\n",
      "\n",
      "===============================================\n",
      "\n",
      "Hasil Klasifikasi Sentimen Analisis Tokopedia:\n",
      "Accuracy: 0.946969696969697\n",
      "Precision: 0.946969696969697\n",
      "Recall: 1.0\n",
      "f1_score: 0.9727626459143969\n",
      "error_rate: 0.05303030303030298\n"
     ]
    }
   ],
   "source": [
    "# perform algoritma KNN\n",
    "from sklearn.metrics import accuracy_score, precision_score, recall_score, f1_score\n",
    "from sklearn.metrics import classification_report\n",
    "from sklearn.metrics import confusion_matrix\n",
    "from sklearn.neighbors import KNeighborsClassifier\n",
    "\n",
    "clf = KNeighborsClassifier(n_neighbors=7).fit(X_train, y_train)\n",
    "predicted = clf.predict(X_test)\n",
    "print(f'confusion matrix:\\n {confusion_matrix(y_test, predicted)}')\n",
    "print('===============================================\\n')\n",
    "tn, fp, fn, tp = confusion_matrix(y_test, predicted).ravel()\n",
    "print(\"TN:\", tn)\n",
    "print(\"FP:\", fp)\n",
    "print(\"FN:\", fn)\n",
    "print(\"TP:\", tp)\n",
    "print(classification_report(y_test, predicted, zero_division=0))\n",
    "print('===============================================\\n')\n",
    "print(\"Hasil Klasifikasi Sentimen Analisis Tokopedia:\")\n",
    "print(\"Accuracy:\" , accuracy_score(y_test,predicted))\n",
    "print(\"Precision:\" , precision_score(y_test,predicted, average=\"binary\", pos_label=\"POSITIF\"))\n",
    "print(\"Recall:\" , recall_score(y_test,predicted, average=\"binary\", pos_label=\"POSITIF\"))\n",
    "print(\"f1_score:\" , f1_score(y_test,predicted, average=\"binary\", pos_label=\"POSITIF\"))\n",
    "print(\"error_rate:\", 1-accuracy_score(y_test,predicted))"
   ]
  },
  {
   "cell_type": "code",
   "execution_count": 19,
   "metadata": {},
   "outputs": [
    {
     "data": {
      "text/plain": [
       "array([0.95454545, 0.89393939, 0.92424242, 0.93939394, 0.93939394,\n",
       "       0.86363636, 0.93939394, 0.96923077, 0.95384615, 0.96923077])"
      ]
     },
     "execution_count": 19,
     "metadata": {},
     "output_type": "execute_result"
    }
   ],
   "source": [
    "from sklearn.model_selection import cross_val_score\n",
    "from sklearn.neighbors import KNeighborsClassifier\n",
    "clf = KNeighborsClassifier(n_neighbors=5)\n",
    "cross_val_score(clf, cos_sim, data_clean['SENTIMEN'], cv=10)"
   ]
  },
  {
   "cell_type": "code",
   "execution_count": 20,
   "metadata": {},
   "outputs": [
    {
     "data": {
      "text/plain": [
       "0.9346853146853148"
      ]
     },
     "execution_count": 20,
     "metadata": {},
     "output_type": "execute_result"
    }
   ],
   "source": [
    "cross_val_score(clf, cos_sim, data_clean['SENTIMEN'], cv=10).mean()"
   ]
  }
 ],
 "metadata": {
  "kernelspec": {
   "display_name": "Python 3",
   "language": "python",
   "name": "python3"
  },
  "language_info": {
   "codemirror_mode": {
    "name": "ipython",
    "version": 3
   },
   "file_extension": ".py",
   "mimetype": "text/x-python",
   "name": "python",
   "nbconvert_exporter": "python",
   "pygments_lexer": "ipython3",
   "version": "3.11.5"
  }
 },
 "nbformat": 4,
 "nbformat_minor": 2
}
